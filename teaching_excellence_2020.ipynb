{
 "cells": [
  {
   "cell_type": "code",
   "execution_count": 3,
   "metadata": {},
   "outputs": [],
   "source": [
    "import pandas as pd\n",
    "import numpy as np\n",
    "import matplotlib.pyplot as plt\n",
    "from IPython.display import Image\n",
    "import math"
   ]
  },
  {
   "cell_type": "code",
   "execution_count": 4,
   "metadata": {},
   "outputs": [],
   "source": [
    "%matplotlib inline"
   ]
  },
  {
   "cell_type": "code",
   "execution_count": null,
   "metadata": {},
   "outputs": [],
   "source": []
  },
  {
   "cell_type": "markdown",
   "metadata": {
    "slideshow": {
     "slide_type": "slide"
    }
   },
   "source": [
    "# Reflections on teaching and why I'm here today\n",
    "\n",
    "* Building expertise\n",
    "* In the classroom\n",
    "* Beyond the classroom\n",
    "\n",
    "Happy to discuss any of this over (virtual) coffee. :)"
   ]
  },
  {
   "cell_type": "markdown",
   "metadata": {
    "slideshow": {
     "slide_type": "slide"
    }
   },
   "source": [
    "# But first, I'll jump to the bottom line "
   ]
  },
  {
   "cell_type": "markdown",
   "metadata": {
    "slideshow": {
     "slide_type": "subslide"
    }
   },
   "source": [
    "# I like to learn\n",
    "\n",
    "* in my domain area of business analytics and beyond\n",
    "* the science of learning and new approaches to pedagogy\n",
    "* new technologies"
   ]
  },
  {
   "cell_type": "markdown",
   "metadata": {
    "slideshow": {
     "slide_type": "subslide"
    }
   },
   "source": [
    "# I like to solve real problems with\n",
    "\n",
    "* modeling\n",
    "* computing\n",
    "* math/stat\n",
    "* communication\n",
    "\n",
    "I teach business analytics and it's really a combo of all of the above within a business context"
   ]
  },
  {
   "cell_type": "markdown",
   "metadata": {
    "slideshow": {
     "slide_type": "subslide"
    }
   },
   "source": [
    "# I like to share\n",
    "\n",
    "* time and energy\n",
    "* expertise and advice\n",
    "* the things I create\n"
   ]
  },
  {
   "cell_type": "markdown",
   "metadata": {
    "slideshow": {
     "slide_type": "slide"
    }
   },
   "source": [
    "# And ... I don't care much about\n",
    "\n",
    "* who gets credit for what\n",
    "* traditional metrics of success\n",
    "* the status quo"
   ]
  },
  {
   "cell_type": "markdown",
   "metadata": {},
   "source": [
    "# Building expertise\n",
    "\n",
    "* took a jillion classes in grad school\n",
    "* work at BH and HFHS and various consulting firms\n",
    "\n",
    "Pic of sim models and other analytical gizmos"
   ]
  },
  {
   "cell_type": "markdown",
   "metadata": {},
   "source": [
    "# From industry to academia\n",
    "\n",
    "* Bring practical mindset to the classroom\n",
    "* Breathe life into abstract topics\n",
    "* Credibility with working professionals"
   ]
  },
  {
   "cell_type": "markdown",
   "metadata": {},
   "source": [
    "# In the classroom\n",
    "\n",
    "Business Analysis and Modeling Studio to set the tone\n",
    "\n",
    "Guided exploration and tutorials\n",
    "Modeling analytics problem solving / coding behaviors via live coding (talking through my thinking and doing debugging on the fly, self-deprecation)\n",
    "\n",
    "Getting students to embrace the fact that when they make programming mistakes, it will almost always be their fault. )\n",
    "\n",
    "Safety net - for me and for my students\n",
    "* ability to troubleshoot lab/student techie issues on the fly\n",
    "* screencasts that students can review at their own pace\n",
    "* preparation"
   ]
  },
  {
   "cell_type": "markdown",
   "metadata": {},
   "source": [
    "# In the classroom\n",
    "\n",
    "Practical Computating for Data Analytics\n",
    "\n",
    "Introduce new ways of doing things to OU students\n",
    "\n",
    "Use open source technologies that are widely used in industry\n",
    "\n",
    "Jupyter notebooks and R Markdown documents facilitate the interactive studio environment\n",
    "\n",
    "Class is mixture of guided tutorials, problem solving challenges, games, open lab time"
   ]
  },
  {
   "cell_type": "markdown",
   "metadata": {},
   "source": [
    "# In the classroom\n",
    "\n",
    "Back in the classroom as a student - BIO 111, 113, Ecology, Stream Ecology\n",
    "\n",
    "Reminder of what it's like from the other side\n",
    "\n",
    "Led to cross-disciplinary research collaboration with Scott Tiegs and some of his grad students\n",
    "\n",
    "Much overlap and similar pedagogical challenges between business analytics and environmental/ecological analytics --> Sofwtware Carpentry\n",
    "\n",
    "Have taken a bunch of short courses on teaching including the QOTCC course (great course!)\n",
    "\n"
   ]
  },
  {
   "cell_type": "markdown",
   "metadata": {},
   "source": [
    "# Beyond the classroom\n",
    "\n",
    "* open access curricular materais\n",
    "* analytics blogging at hselab.org\n",
    "* mentoring both current and former students (rec letters, career advice, grad school, professional)\n",
    "* open source software development\n",
    "* pro-bono consulting - Covid19 BH / CHIME example"
   ]
  },
  {
   "cell_type": "code",
   "execution_count": null,
   "metadata": {},
   "outputs": [],
   "source": []
  },
  {
   "cell_type": "code",
   "execution_count": null,
   "metadata": {},
   "outputs": [],
   "source": []
  },
  {
   "cell_type": "code",
   "execution_count": null,
   "metadata": {},
   "outputs": [],
   "source": []
  },
  {
   "cell_type": "code",
   "execution_count": null,
   "metadata": {},
   "outputs": [],
   "source": []
  }
 ],
 "metadata": {
  "celltoolbar": "Slideshow",
  "kernelspec": {
   "display_name": "Python 3",
   "language": "python",
   "name": "python3"
  },
  "language_info": {
   "codemirror_mode": {
    "name": "ipython",
    "version": 3
   },
   "file_extension": ".py",
   "mimetype": "text/x-python",
   "name": "python",
   "nbconvert_exporter": "python",
   "pygments_lexer": "ipython3",
   "version": "3.7.6"
  }
 },
 "nbformat": 4,
 "nbformat_minor": 2
}
